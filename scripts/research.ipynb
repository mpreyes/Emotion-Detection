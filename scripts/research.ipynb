{
 "cells": [
  {
   "cell_type": "code",
   "execution_count": null,
   "metadata": {},
   "outputs": [],
   "source": [
    "import sys\n",
    "import os\n",
    "import numpy as np\n",
    "from keras.models import Sequential\n",
    "from keras.layers import Dense, Conv2D, MaxPooling2D, Flatten, Reshape, Dropout\n",
    "from keras.applications.vgg16 import VGG16, preprocess_input, decode_predictions\n",
    "from keras.callbacks import ModelCheckpoint\n",
    "from keras.preprocessing import image as keras_image\n",
    "from keras.utils import np_utils\n",
    "from keras.applications.resnet50 import ResNet50\n",
    "from keras.applications.vgg19 import VGG19\n",
    "from keras.models import Model, model_from_json\n",
    "from keras.optimizers import SGD\n",
    "\n",
    "import matplotlib.pyplot as plt\n",
    "%matplotlib inline"
   ]
  },
  {
   "cell_type": "code",
   "execution_count": null,
   "metadata": {},
   "outputs": [],
   "source": [
    "IMAGES_PATH = \"../inputs/images/\"\n",
    "LABELS_PATH = \"../inputs/labels/\"\n",
    "\n",
    "WEIGHTS_PATH = \"../outputs/weights/\"\n",
    "NUM_CLASSES  = 8 "
   ]
  },
  {
   "cell_type": "code",
   "execution_count": null,
   "metadata": {},
   "outputs": [],
   "source": [
    "def read_inputs():\n",
    "    X = []\n",
    "    Y = []\n",
    "    for root, dirs, files, in os.walk(LABELS_PATH):\n",
    "        for file in files:\n",
    "            if file.endswith(\".txt\") and not file.startswith(\".\"):\n",
    "                images_path = root.replace(LABELS_PATH, IMAGES_PATH)\n",
    "                images      = list(filter(lambda x: not x.startswith(\".\"), os.listdir(images_path))) # keep images that doesn't start with .\n",
    "\n",
    "                label_file = open(os.path.join(root,file),\"r\")\n",
    "                label = int(float(label_file.readline().strip(\"\\n\")))\n",
    "\n",
    "                images.sort() # only get the last four (maybe ?)\n",
    "                for img in images[-4:]:\n",
    "                    tmp = keras_image.load_img(images_path + \"/\" + img , target_size=(64, 64))\n",
    "                    tmp = keras_image.img_to_array(tmp) / float(255)\n",
    "                    X.append(tmp)\n",
    "                    Y.append(label)\n",
    "    return np.asarray(X), np_utils.to_categorical(np.asarray(Y), NUM_CLASSES)"
   ]
  },
  {
   "cell_type": "code",
   "execution_count": null,
   "metadata": {},
   "outputs": [],
   "source": [
    "def simple_model():\n",
    "    model = Sequential()\n",
    "    model.add(Flatten(input_shape=(64, 64, 3)))\n",
    "    model.add(Dense(units=64, activation='relu'))\n",
    "    model.add(Dense(units=8, activation='softmax'))\n",
    "    model.compile(loss='categorical_crossentropy', optimizer='sgd', metrics=['accuracy'])\n",
    "    \n",
    "    return model"
   ]
  },
  {
   "cell_type": "code",
   "execution_count": null,
   "metadata": {},
   "outputs": [],
   "source": [
    "def VGGNET16():\n",
    "    vgg16 = VGG16(weights='imagenet', include_top=False, input_shape = (64,64,3)) \n",
    "    \n",
    "    stacked = Flatten()(vgg16.output)\n",
    "    stacked = Dense(64, activation='relu')(stacked)\n",
    "    predictions = Dense(8, activation='softmax')(stacked)\n",
    "    model = Model(input=vgg16.input, output=predictions)\n",
    "    sgd = SGD(lr=1e-3, decay=1e-6, momentum=0.9, nesterov=True)\n",
    "    model.compile(optimizer=sgd, loss='categorical_crossentropy', metrics=['accuracy'])\n",
    "    \n",
    "    return model  "
   ]
  },
  {
   "cell_type": "code",
   "execution_count": null,
   "metadata": {},
   "outputs": [],
   "source": [
    "X, Y = read_inputs()"
   ]
  },
  {
   "cell_type": "code",
   "execution_count": null,
   "metadata": {},
   "outputs": [],
   "source": [
    "model = VGGNET16()"
   ]
  },
  {
   "cell_type": "code",
   "execution_count": null,
   "metadata": {},
   "outputs": [],
   "source": [
    "#checkpoint = ModelCheckpoint(WEIGHTS_PATH + \"vgg16-weights.h5\", verbose=1, save_best_only=True)\n",
    "#callbacks_list = [checkpoint]\n",
    "model.fit(X, Y, epochs=200, validation_split=0.15, verbose=1, shuffle=True)"
   ]
  },
  {
   "cell_type": "code",
   "execution_count": null,
   "metadata": {},
   "outputs": [],
   "source": [
    "plt.imshow(X[0])"
   ]
  },
  {
   "cell_type": "code",
   "execution_count": null,
   "metadata": {},
   "outputs": [],
   "source": [
    "preds = model.predict(X[:10])"
   ]
  },
  {
   "cell_type": "code",
   "execution_count": null,
   "metadata": {},
   "outputs": [],
   "source": [
    "print(preds[0])"
   ]
  },
  {
   "cell_type": "code",
   "execution_count": null,
   "metadata": {},
   "outputs": [],
   "source": [
    "print(Y[0])"
   ]
  }
 ],
 "metadata": {
  "kernelspec": {
   "display_name": "Python 2",
   "language": "python",
   "name": "python2"
  },
  "language_info": {
   "codemirror_mode": {
    "name": "ipython",
    "version": 2
   },
   "file_extension": ".py",
   "mimetype": "text/x-python",
   "name": "python",
   "nbconvert_exporter": "python",
   "pygments_lexer": "ipython2",
   "version": "2.7.15"
  }
 },
 "nbformat": 4,
 "nbformat_minor": 2
}
